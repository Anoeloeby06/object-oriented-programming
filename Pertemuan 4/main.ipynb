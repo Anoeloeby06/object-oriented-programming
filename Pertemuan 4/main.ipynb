{
 "cells": [
  {
   "cell_type": "code",
   "execution_count": 15,
   "metadata": {},
   "outputs": [
    {
     "name": "stdout",
     "output_type": "stream",
     "text": [
      "{'_Hero__Name': 'Yoru', '_Hero__Health': 100, '_Hero__Damage': 9}\n",
      "Yoru\n",
      "100\n",
      "95\n",
      "{'_Hero__Name': 'Yoru', '_Hero__Health': 95, '_Hero__Damage': 9}\n",
      "{'_Hero__Name': 'Yoru', '_Hero__Health': 95, '_Hero__Damage': 10}\n"
     ]
    }
   ],
   "source": [
    "class Hero:\n",
    "    def __init__(self, name, health, attackpower):\n",
    "        self.__Name = name\n",
    "        self.__Health = health\n",
    "        self.__Damage = attackpower\n",
    "\n",
    "    #getter called private\n",
    "    def getName(self):\n",
    "        return self.__Name\n",
    "    def getHealth(self):\n",
    "        return self.__Health\n",
    "    def getDamage(self):\n",
    "        return self.__Damage\n",
    "\n",
    "    #setter (like same up)\n",
    "    def attacking(self, value):\n",
    "        self.__Health -= value\n",
    "    def charging(self, newDamage):\n",
    "        self.__Damage = newDamage\n",
    "\n",
    "    #var instance private\n",
    "    #self.__private = 'This is Private'\n",
    "    #var instance protect\n",
    "    #self._protected = 'This is Protected'\n",
    "\n",
    "#====================================================output\n",
    "\n",
    "#avatar = Hero(\"Yoru\", 20000)\n",
    "#print(avatar.__dict__)\n",
    "\n",
    "yoru = Hero('Yoru', 100, 9)\n",
    "\n",
    "print(yoru.__dict__)\n",
    "print(yoru.getName())\n",
    "print(yoru.getHealth())\n",
    "\n",
    "yoru.attacking(5)\n",
    "print(yoru.getHealth())\n",
    "print(yoru.__dict__)\n",
    "\n",
    "yoru.charging(10)\n",
    "print(yoru.__dict__)\n",
    "\n",
    "#print(avatar._protected)"
   ]
  }
 ],
 "metadata": {
  "kernelspec": {
   "display_name": "Python 3",
   "language": "python",
   "name": "python3"
  },
  "language_info": {
   "codemirror_mode": {
    "name": "ipython",
    "version": 3
   },
   "file_extension": ".py",
   "mimetype": "text/x-python",
   "name": "python",
   "nbconvert_exporter": "python",
   "pygments_lexer": "ipython3",
   "version": "3.12.0"
  }
 },
 "nbformat": 4,
 "nbformat_minor": 2
}
